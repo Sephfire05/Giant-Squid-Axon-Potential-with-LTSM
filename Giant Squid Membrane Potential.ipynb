{
 "cells": [
  {
   "cell_type": "code",
   "execution_count": 3,
   "metadata": {},
   "outputs": [],
   "source": [
    "#Loading Libraries\n",
    "import pandas as pd\n",
    "from pandas import read_csv\n",
    "import numpy as np\n",
    "import matplotlib.pyplot\n",
    "import glob\n",
    "import os"
   ]
  },
  {
   "cell_type": "code",
   "execution_count": 4,
   "metadata": {},
   "outputs": [
    {
     "name": "stdout",
     "output_type": "stream",
     "text": [
      "['Sample01.csv', 'Sample02.csv', 'Sample03.csv', 'Sample04.csv', 'Sample05.csv', 'Sample06.csv', 'Sample07.csv', 'Sample08.csv', 'Sample09.csv', 'Sample10.csv', 'Sample11.csv', 'Sample12.csv', 'Sample13.csv', 'Sample14.csv', 'Sample15.csv']\n"
     ]
    }
   ],
   "source": [
    "print(glob.glob('Sample*.csv'))"
   ]
  },
  {
   "cell_type": "markdown",
   "metadata": {},
   "source": [
    "\n",
    "    "
   ]
  },
  {
   "cell_type": "markdown",
   "metadata": {},
   "source": [
    "# Reading Data"
   ]
  },
  {
   "cell_type": "code",
   "execution_count": 10,
   "metadata": {},
   "outputs": [
    {
     "name": "stdout",
     "output_type": "stream",
     "text": [
      "['Sample01.csv', 'Sample02.csv', 'Sample03.csv', 'Sample04.csv', 'Sample05.csv', 'Sample06.csv', 'Sample07.csv', 'Sample08.csv', 'Sample09.csv', 'Sample10.csv', 'Sample11.csv', 'Sample12.csv', 'Sample13.csv', 'Sample14.csv', 'Sample15.csv']\n"
     ]
    },
    {
     "ename": "IndexError",
     "evalue": "list index out of range",
     "output_type": "error",
     "traceback": [
      "\u001b[1;31m\u001b[0m",
      "\u001b[1;31mIndexError\u001b[0mTraceback (most recent call last)",
      "\u001b[1;32m<ipython-input-10-49c6eb04422d>\u001b[0m in \u001b[0;36m<module>\u001b[1;34m()\u001b[0m\n\u001b[0;32m     16\u001b[0m             \u001b[0mfields\u001b[0m \u001b[1;33m=\u001b[0m \u001b[0mline\u001b[0m\u001b[1;33m.\u001b[0m\u001b[0msplit\u001b[0m\u001b[1;33m(\u001b[0m\u001b[1;34m';'\u001b[0m\u001b[1;33m)\u001b[0m \u001b[1;31m#Separation of each field\u001b[0m\u001b[1;33m\u001b[0m\u001b[0m\n\u001b[0;32m     17\u001b[0m             \u001b[0mx\u001b[0m \u001b[1;33m=\u001b[0m \u001b[0mstr\u001b[0m\u001b[1;33m(\u001b[0m\u001b[0mfields\u001b[0m\u001b[1;33m[\u001b[0m\u001b[1;36m0\u001b[0m\u001b[1;33m]\u001b[0m\u001b[1;33m)\u001b[0m\u001b[1;33m\u001b[0m\u001b[0m\n\u001b[1;32m---> 18\u001b[1;33m             \u001b[0my\u001b[0m \u001b[1;33m=\u001b[0m \u001b[0mfloat\u001b[0m\u001b[1;33m(\u001b[0m\u001b[0mfields\u001b[0m\u001b[1;33m[\u001b[0m\u001b[1;36m1\u001b[0m\u001b[1;33m]\u001b[0m\u001b[1;33m)\u001b[0m\u001b[1;33m\u001b[0m\u001b[0m\n\u001b[0m\u001b[0;32m     19\u001b[0m             \u001b[0mz\u001b[0m \u001b[1;33m=\u001b[0m \u001b[0mfloat\u001b[0m\u001b[1;33m(\u001b[0m\u001b[0mfields\u001b[0m\u001b[1;33m[\u001b[0m\u001b[1;36m2\u001b[0m\u001b[1;33m]\u001b[0m\u001b[1;33m)\u001b[0m\u001b[1;33m\u001b[0m\u001b[0m\n\u001b[0;32m     20\u001b[0m             \u001b[1;32mif\u001b[0m \u001b[0mx\u001b[0m \u001b[1;33m==\u001b[0m \u001b[1;36m1\u001b[0m \u001b[1;32mand\u001b[0m \u001b[0my\u001b[0m \u001b[1;33m==\u001b[0m \u001b[1;36m2\u001b[0m\u001b[1;33m:\u001b[0m\u001b[1;33m\u001b[0m\u001b[0m\n",
      "\u001b[1;31mIndexError\u001b[0m: list index out of range"
     ]
    }
   ],
   "source": [
    "filenames = sorted(glob.glob('Sample*.csv'))\n",
    "filenames = filenames[0:15]\n",
    "print(filenames)\n",
    "outfile =open('Combination.csv', 'w')\n",
    "outfile.write('Elapsed time, Vmembrane, Istim, filename\\n')\n",
    "for filename in glob.glob('*.csv'):\n",
    "    if filename == 'output.csv': #skip it\n",
    "        continue\n",
    "    with open(filename, 'r') as infile:\n",
    "        count = 0\n",
    "        lineno = 0\n",
    "        for line in infile:\n",
    "            lineno += 1\n",
    "            if lineno == 1: #skips headerline in each one\n",
    "                continue\n",
    "            fields = line.split(';') #Separation of each field\n",
    "            x = str(fields[0])\n",
    "            y = float(fields[1])\n",
    "            z = float(fields[2])\n",
    "            if x == 1 and y == 2:\n",
    "                outfile.write('%s ; %g ; %g ; %s\\n' %(x, y, z, filename))\n",
    "                count += 1\n",
    "        if count == 0:\n",
    "            outfile.write('1; 2; NA; %s\\n' % filename)\n",
    "outfile.close()\n"
   ]
  },
  {
   "cell_type": "markdown",
   "metadata": {},
   "source": [
    "# Series Plotting"
   ]
  },
  {
   "cell_type": "code",
   "execution_count": 18,
   "metadata": {},
   "outputs": [
    {
     "ename": "IndexError",
     "evalue": "index 2 is out of bounds for axis 1 with size 2",
     "output_type": "error",
     "traceback": [
      "\u001b[1;31m\u001b[0m",
      "\u001b[1;31mIndexError\u001b[0mTraceback (most recent call last)",
      "\u001b[1;32m<ipython-input-18-36f7bdaae41c>\u001b[0m in \u001b[0;36m<module>\u001b[1;34m()\u001b[0m\n\u001b[0;32m     15\u001b[0m \u001b[1;32mfor\u001b[0m \u001b[0mgroup\u001b[0m \u001b[1;32min\u001b[0m \u001b[0mgroups\u001b[0m\u001b[1;33m:\u001b[0m\u001b[1;33m\u001b[0m\u001b[0m\n\u001b[0;32m     16\u001b[0m     \u001b[0mpyplot\u001b[0m\u001b[1;33m.\u001b[0m\u001b[0msubplot\u001b[0m\u001b[1;33m(\u001b[0m\u001b[0mlen\u001b[0m\u001b[1;33m(\u001b[0m\u001b[0mgroups\u001b[0m\u001b[1;33m)\u001b[0m\u001b[1;33m,\u001b[0m \u001b[1;36m1\u001b[0m\u001b[1;33m,\u001b[0m \u001b[0mi\u001b[0m\u001b[1;33m)\u001b[0m\u001b[1;33m\u001b[0m\u001b[0m\n\u001b[1;32m---> 17\u001b[1;33m     \u001b[0mpyplot\u001b[0m\u001b[1;33m.\u001b[0m\u001b[0mplot\u001b[0m\u001b[1;33m(\u001b[0m\u001b[0mvalues\u001b[0m\u001b[1;33m[\u001b[0m\u001b[1;36m0\u001b[0m\u001b[1;33m:\u001b[0m\u001b[1;33m,\u001b[0m \u001b[0mgroup\u001b[0m\u001b[1;33m]\u001b[0m\u001b[1;33m)\u001b[0m\u001b[1;33m\u001b[0m\u001b[0m\n\u001b[0m\u001b[0;32m     18\u001b[0m     \u001b[0mpyplot\u001b[0m\u001b[1;33m.\u001b[0m\u001b[0mtitle\u001b[0m\u001b[1;33m(\u001b[0m\u001b[0mdataset\u001b[0m\u001b[1;33m.\u001b[0m\u001b[0mcolumns\u001b[0m\u001b[1;33m[\u001b[0m\u001b[0mgroup\u001b[0m\u001b[1;33m]\u001b[0m\u001b[1;33m,\u001b[0m \u001b[0my\u001b[0m\u001b[1;33m=\u001b[0m\u001b[1;36m0.5\u001b[0m\u001b[1;33m,\u001b[0m \u001b[0mloc\u001b[0m\u001b[1;33m=\u001b[0m\u001b[1;34m'right'\u001b[0m\u001b[1;33m)\u001b[0m\u001b[1;33m\u001b[0m\u001b[0m\n\u001b[0;32m     19\u001b[0m     \u001b[0mi\u001b[0m \u001b[1;33m+=\u001b[0m \u001b[1;36m1\u001b[0m\u001b[1;33m\u001b[0m\u001b[0m\n",
      "\u001b[1;31mIndexError\u001b[0m: index 2 is out of bounds for axis 1 with size 2"
     ]
    },
    {
     "data": {
      "image/png": "[encoded data removed]",
      "text/plain": [
       "<Figure size 432x288 with 2 Axes>"
      ]
     },
     "metadata": {},
     "output_type": "display_data"
    }
   ],
   "source": [
    "#loading libraries\n",
    "from pandas import read_csv\n",
    "from matplotlib import pyplot \n",
    "\n",
    "#load dataset\n",
    "dataset = read_csv('Sample01.csv', header=1, index_col=0)\n",
    "values = dataset.values #values in the file\n",
    "\n",
    "#specify columns to plot\n",
    "groups = [1,2]\n",
    "i = 1\n",
    "\n",
    "#plot each column\n",
    "pyplot.figure()\n",
    "for group in groups:\n",
    "    pyplot.subplot(len(groups), 1, i)\n",
    "    pyplot.plot(values[0:, group])\n",
    "    pyplot.title(dataset.columns[group], y=0.5, loc='right')\n",
    "    i += 1\n",
    "pyplot.show()"
   ]
  },
  {
   "cell_type": "markdown",
   "metadata": {},
   "source": [
    "# PCA Feature Reducer"
   ]
  },
  {
   "cell_type": "code",
   "execution_count": 5,
   "metadata": {},
   "outputs": [
    {
     "name": "stdout",
     "output_type": "stream",
     "text": [
      "('Original number of features:', 64L)\n",
      "('Reduced number of features:', 54L)\n"
     ]
    }
   ],
   "source": [
    "#Importing Libraries\n",
    "from sklearn.preprocessing import StandardScaler\n",
    "from sklearn.decomposition import PCA\n",
    "from sklearn import datasets\n",
    "\n",
    "#Loading Data\n",
    "digits = datasets.load_digits()\n",
    "\n",
    "#Standardize the feature matrix\n",
    "features = StandardScaler().fit_transform(digits.data)\n",
    "\n",
    "#Create a PCA that will retain 99% of variance\n",
    "\n",
    "pca = PCA(n_components=0.99, whiten=True)\n",
    "\n",
    "#Conducting PCA\n",
    "features_pca = pca.fit_transform(features)\n",
    "\n",
    "#Show Results\n",
    "\n",
    "print(\"Original number of features:\", features.shape[1])\n",
    "print(\"Reduced number of features:\", features_pca.shape[1])\n",
    "\n"
   ]
  },
  {
   "cell_type": "markdown",
   "metadata": {},
   "source": [
    "# K-Nearest Neighbors Classifer"
   ]
  },
  {
   "cell_type": "code",
   "execution_count": 7,
   "metadata": {},
   "outputs": [
    {
     "data": {
      "text/plain": [
       "array([[[1.03800476, 0.56925129, 1.10395287, 1.1850097 ],\n",
       "        [0.79566902, 0.33784833, 0.76275864, 1.05353673]]])"
      ]
     },
     "execution_count": 7,
     "metadata": {},
     "output_type": "execute_result"
    }
   ],
   "source": [
    "#Loading Libraries\n",
    "from sklearn import datasets\n",
    "from sklearn.neighbors import NearestNeighbors\n",
    "from sklearn.preprocessing import StandardScaler\n",
    "\n",
    "#Load Data\n",
    "iris = newdf.load_iris()\n",
    "features = iris.data\n",
    "\n",
    "#Standardizer\n",
    "standardizer = StandardScaler()\n",
    "\n",
    "#Standardize features\n",
    "features_standardized = standardizer.fit_transform(features)\n",
    "\n",
    "#Two Nearest Neighbors\n",
    "nearest_neighbors = NearestNeighbors(n_neighbors=2).fit(features_standardized)\n",
    "\n",
    "#Create an observation\n",
    "new_observation = [1,1,1,1]\n",
    "\n",
    "#Find distances and indices of the observation's nearest neighbors\n",
    "voltages, indices = nearest_neighbors.kneighbors([new_observation])\n",
    "\n",
    "#View the nearest neighbors\n",
    "features_standardized[indices]"
   ]
  },
  {
   "cell_type": "code",
   "execution_count": null,
   "metadata": {},
   "outputs": [],
   "source": []
  },
  {
   "cell_type": "markdown",
   "metadata": {},
   "source": [
    "# Deep Neural Network Methods "
   ]
  },
  {
   "cell_type": "code",
   "execution_count": null,
   "metadata": {},
   "outputs": [],
   "source": [
    "#Loading Libraries\n",
    "\n",
    "from keras import models\n",
    "from keras import layers\n",
    "\n",
    "#Start neural network\n",
    "DNN = models.Sequential()\n",
    "#Adding multiple layers here to refine the network\n",
    "\n",
    "#Add fully connected with a ReLu activation function\n",
    "network.add(layers.Dense(units=16, activation=\"relu\", input_shape(2,)))\n",
    "\n",
    "#Adding another fully connected layer with relu activation again\n",
    "DNN.add(layers.Dense(units=12, activation=\"relu\", input_shape(2,)))\n",
    "\n",
    "#Adding another layer to further filter out the data\n",
    "DNN.add(layers.Dense(units=10, activation=\"relu\", input_shape(2,)))\n",
    "\n",
    "#Adding another layer just for fun\n",
    "DNN.add(layers.Dense(units=6, activation=\"relu\", input_shape(2,)))\n",
    "\n",
    "#Last layer added here to refine. Using sigmoid activation here\n",
    "DNN.add(layers.Dense(units=2, activation=\"sigmoid\", input_shape(2,)))\n",
    "\n",
    "#Compiling the DNN here\n",
    "DNN.compile(loss=\"binary_crossentropy\", #Cross Entropy for loss function\n",
    "            optimizer=\"rmsprop\", #RMS Propogation\n",
    "            metrics=[\"accuracy\"]) #Accuracy performance, walk around the loss function lol"
   ]
  }
 ],
 "metadata": {
  "kernelspec": {
   "display_name": "Python 2",
   "language": "python",
   "name": "python2"
  },
  "language_info": {
   "codemirror_mode": {
    "name": "ipython",
    "version": 2
   },
   "file_extension": ".py",
   "mimetype": "text/x-python",
   "name": "python",
   "nbconvert_exporter": "python",
   "pygments_lexer": "ipython2",
   "version": "2.7.14"
  }
 },
 "nbformat": 4,
 "nbformat_minor": 2
}
